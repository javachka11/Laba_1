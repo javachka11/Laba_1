{
  "nbformat": 4,
  "nbformat_minor": 0,
  "metadata": {
    "colab": {
      "name": "Sem6_Lab1.ipynb",
      "provenance": [],
      "collapsed_sections": [],
      "authorship_tag": "ABX9TyOfUeOqzqxxGclqJi0wZHOR",
      "include_colab_link": true
    },
    "kernelspec": {
      "name": "python3",
      "display_name": "Python 3"
    },
    "language_info": {
      "name": "python"
    }
  },
  "cells": [
    {
      "cell_type": "markdown",
      "metadata": {
        "id": "view-in-github",
        "colab_type": "text"
      },
      "source": [
        "<a href=\"https://colab.research.google.com/github/javachka11/Laba_1/blob/main/Sem6_Lab1.ipynb\" target=\"_parent\"><img src=\"https://colab.research.google.com/assets/colab-badge.svg\" alt=\"Open In Colab\"/></a>"
      ]
    },
    {
      "cell_type": "markdown",
      "source": [
        "**Импорт библиотек**"
      ],
      "metadata": {
        "id": "BAVvksqcoZFK"
      }
    },
    {
      "cell_type": "code",
      "execution_count": 1,
      "metadata": {
        "id": "wYvWnhFAoLCV"
      },
      "outputs": [],
      "source": [
        "from typing import List\n",
        "import math\n",
        "import matplotlib.pyplot as plt\n",
        "import matplotlib.animation as animation\n",
        "from decimal import Decimal"
      ]
    },
    {
      "cell_type": "markdown",
      "source": [
        "**Условие задачи**"
      ],
      "metadata": {
        "id": "7TH--vv_kfE3"
      }
    },
    {
      "cell_type": "code",
      "source": [
        "ex1_аa = 1/2\n",
        "\n",
        "def ex1_f(x, t):\n",
        "  return -math.sin(x+t)\n",
        "\n",
        "def ex1_u1(x):\n",
        "  return 2*math.sin(x)\n",
        "\n",
        "def ex1_u2(x):\n",
        "  return 2*math.cos(x)\n",
        "\n",
        "def ex1_u3(t):\n",
        "  return 2*(math.sin(t)-math.cos(t))\n",
        "\n",
        "def ex1_u4(t):\n",
        "  return 2*math.sin(1+t)\n",
        "\n",
        "def ex1_res(x, t):\n",
        "  return 2*math.sin(x + t)"
      ],
      "metadata": {
        "id": "2YIoHkSFke0g"
      },
      "execution_count": 2,
      "outputs": []
    },
    {
      "cell_type": "markdown",
      "source": [
        "**Решение задачи**"
      ],
      "metadata": {
        "id": "lMfVbbiGkFW7"
      }
    },
    {
      "cell_type": "code",
      "source": [
        "fig, ax = plt.subplots()\n",
        "\n",
        "def uniform_net(a, b, h):\n",
        "  step = (b - a) / ((b - a) / h) # шаг сетки\n",
        "  nodes = []\n",
        "  nodes.append(a)\n",
        "  x = a\n",
        "  while x != b:\n",
        "    x = Decimal(str(x)) + Decimal(str(step))\n",
        "    nodes.append(float(x))\n",
        "  return nodes\n",
        "\n",
        "def wave_task(t0, a, b, coef, func, u_x0, ut_x0, border_coeffs_a, border_coeffs_b):\n",
        "  return (t0, a, b, coef, func, u_x0, ut_x0, border_coeffs_a, border_coeffs_b)\n",
        "\n",
        "def left_border_1(t, wt, h, a):\n",
        "  res1 = (wt[7][2](t) - wt[7][0] * a / h)\n",
        "  res2 = (-wt[7][0] / h + wt[7][1])\n",
        "  return res1 / res2\n",
        "\n",
        "def right_border_1(t, wt, h, b):\n",
        "  res1 = (wt[8][2](t) + wt[8][0] * b / h)\n",
        "  res2 = (wt[8][0] / h + wt[8][1])\n",
        "  return res1 / res2\n",
        "\n",
        "def left_border_2(t, wt, h, a1, a2):\n",
        "  res1 = wt[7][2](t) - wt[7][0] / h * (2*a1 - 1/2*a2)\n",
        "  res2 = -3/2 * wt[7][0] / h + wt[7][1]\n",
        "  return res1 / res2\n",
        "\n",
        "def right_border_2(t, wt, h, b1, b2):\n",
        "  res1 = wt[8][2](t) + wt[8][0] / h * (2*b1 - 1/2*b2)\n",
        "  res2 = 3/2 * wt[8][0] / h + wt[8][1]\n",
        "  return res1 / res2\n",
        "\n",
        "def solver_1(t, wt, net, arr, h, tau):\n",
        "  if t == wt[0]:\n",
        "    arr[0] = [wt[5](x) for x in net]\n",
        "    arr[2] = [y for y in arr[0]]\n",
        "  elif t == wt[0] + tau:\n",
        "    arr[1] = [wt[6](x) for x in net]\n",
        "    for i in range(len(net)):\n",
        "      arr[1][i] = tau * arr[1][i] + arr[0][i]\n",
        "    arr[2] = [y for y in arr[1]]\n",
        "  else:\n",
        "    f_arr = [wt[4](x, t-tau) for x in net]\n",
        "    for i in range(1, len(net)-1):\n",
        "      arr[2][i] = ((wt[3]*(tau**2)/(h**2))*(arr[1][i+1] - 2*arr[1][i] + arr[1][i-1]) + \n",
        "                   (tau**2)*f_arr[i] + 2*arr[1][i] - arr[0][i])\n",
        "    arr[2][0] = left_border_1(t, wt, h, arr[2][1])\n",
        "    arr[2][-1] = right_border_1(t, wt, h, arr[2][-2])\n",
        "    arr[0] = [x for x in arr[1]]\n",
        "    arr[1] = [x for x in arr[2]]\n",
        "\n",
        "def solver_2(t, wt, net, arr, h, tau):\n",
        "  if t == wt[0]:\n",
        "    arr[0] = [wt[5](x) for x in net]\n",
        "    arr[2] = [y for y in arr[0]]\n",
        "  elif t == wt[0] + tau:\n",
        "    arr[1] = [wt[6](x) for x in net]\n",
        "    f_arr_t0 = [wt[4](x, wt[0]) for x in net]\n",
        "    for i in range(1, len(net)-1):\n",
        "      arr[1][i] = (tau**2 * wt[3]/(2 * h**2) * (arr[0][i-1] - 2*arr[0][i] + arr[0][i+1]) + \n",
        "                 tau**2/2 * f_arr_t0[i] + tau * arr[1][i] + arr[0][i])\n",
        "    arr[1][0] = (tau**2 * wt[3]/(2 * h**2) * (2*arr[0][0] - 5*arr[0][1] + 4*arr[0][2] - arr[0][3]) + \n",
        "                 tau**2/2 * f_arr_t0[0] + tau * arr[1][0] + arr[0][0])\n",
        "    arr[1][-1] = (tau**2 * wt[3]/(2 * h**2) * (2*arr[0][-1] - 5*arr[0][-2] + 4*arr[0][-3] - arr[0][-4]) + \n",
        "                 tau**2/2 * f_arr_t0[-1] + tau * arr[1][-1] + arr[0][-1])\n",
        "    arr[2] = [y for y in arr[1]]\n",
        "  else:\n",
        "    f_arr = [wt[4](x, t-tau) for x in net]\n",
        "    for i in range(1, len(net)-1):\n",
        "      arr[2][i] = ((wt[3]*tau**2/h**2)*(arr[1][i+1] - 2*arr[1][i] + arr[1][i-1]) + \n",
        "                   (tau**2)*f_arr[i] + 2*arr[1][i] - arr[0][i])\n",
        "    arr[2][0] = left_border_2(t, wt, h, arr[2][1], arr[2][2])\n",
        "    arr[2][-1] = right_border_2(t, wt, h, arr[2][-2], arr[2][-3])\n",
        "    \n",
        "    arr[0] = [x for x in arr[1]]\n",
        "    arr[1] = [x for x in arr[2]]\n",
        "\n",
        "def solver(t, wt, net, arr, h, tau, order):\n",
        "  if order == 1:\n",
        "    solver_1(t, wt, net, arr, h, tau)\n",
        "    ax.clear()\n",
        "    x1,x2,y1,y2 = ax.axis()  \n",
        "    ax.axis((x1,x2,-2.5, 2.5))\n",
        "    line = ax.plot(net, arr[2])\n",
        "    return line\n",
        "  elif order == 2:\n",
        "    solver_2(t, wt, net, arr, h, tau)\n",
        "    ax.clear()\n",
        "    x1,x2,y1,y2 = ax.axis()\n",
        "    ax.axis((x1,x2,-2.5, 2.5))\n",
        "    line = ax.plot(net, arr[2])\n",
        "    return line\n",
        "  else:\n",
        "    print('error!')\n",
        "\n",
        "def ans(t, net):\n",
        "  y_arr = [2*math.sin(t + net[i]) for i in range(len(net))]\n",
        "  ax.clear()\n",
        "  x1,x2,y1,y2 = ax.axis()  \n",
        "  ax.axis((x1,x2,-2, 2))\n",
        "  line = ax.plot(net, y_arr)\n",
        "  return line\n",
        "\n",
        "def abs_error(arr1, arr2):\n",
        "  assert len(arr1)==len(arr2)\n",
        "  array = [math.fabs(arr1[i] - arr2[i]) for i in range(len(arr1))]\n",
        "  return array"
      ],
      "metadata": {
        "id": "jzxqraDevUcj",
        "colab": {
          "base_uri": "https://localhost:8080/",
          "height": 269
        },
        "outputId": "a18623ce-2134-4ff0-e6bc-2ab86eccc2a1"
      },
      "execution_count": 3,
      "outputs": [
        {
          "output_type": "display_data",
          "data": {
            "text/plain": [
              "<Figure size 432x288 with 1 Axes>"
            ],
            "image/png": "[encoded data removed]"
          },
          "metadata": {
            "needs_background": "light"
          }
        }
      ]
    },
    {
      "cell_type": "markdown",
      "source": [
        "**Строитель гифок**"
      ],
      "metadata": {
        "id": "4VSvmsFuBQrV"
      }
    },
    {
      "cell_type": "code",
      "source": [
        "def main():\n",
        "  h = 0.1\n",
        "  tau = 0.01\n",
        "  \n",
        "  wt = wave_task(0, 0, 1, 1/2, ex1_f, ex1_u1, ex1_u2, (-1, 1, ex1_u3), (0, 1, ex1_u4))\n",
        "  t_arr = uniform_net(0, 10, tau)\n",
        "  net = uniform_net(wt[1], wt[2], h)\n",
        "  arr = 3*[len(net)*[0]]\n",
        "\n",
        "  wt_animation = animation.FuncAnimation(fig,\n",
        "                                      ans,\n",
        "                                      frames=t_arr,\n",
        "                                      fargs = (net,),\n",
        "                                      interval = 10,\n",
        "                                      repeat = False)\n",
        "  wt_animation.save('wave_task_real.gif',\n",
        "                    writer = 'pillow',\n",
        "                    fps = 30)\n",
        "  fig.clear()\n",
        "\n",
        "  wt_animation = animation.FuncAnimation(fig,\n",
        "                                      solver,\n",
        "                                      frames=t_arr,\n",
        "                                      fargs = (wt, net, arr, h, tau, 1),\n",
        "                                      interval = 10,\n",
        "                                      repeat = False)\n",
        "  wt_animation.save('wave_task_1.gif',\n",
        "                    writer = 'pillow',\n",
        "                    fps = 30)\n",
        "  fig.clear()\n",
        "  \n",
        "  wt_animation = animation.FuncAnimation(fig,\n",
        "                                      solver,\n",
        "                                      frames=t_arr,\n",
        "                                      fargs = (wt, net, arr, h, tau, 2),\n",
        "                                      interval = 10,\n",
        "                                      repeat = False)\n",
        "  wt_animation.save('wave_task_2.gif',\n",
        "                    writer = 'pillow',\n",
        "                    fps = 30)\n",
        "  fig.clear()"
      ],
      "metadata": {
        "id": "iPPNlL67pjW2"
      },
      "execution_count": 6,
      "outputs": []
    },
    {
      "cell_type": "code",
      "source": [
        "main()"
      ],
      "metadata": {
        "id": "3CpXhDH__z5I"
      },
      "execution_count": 11,
      "outputs": []
    },
    {
      "cell_type": "markdown",
      "source": [
        "**Нахождение максимальной ошибки**"
      ],
      "metadata": {
        "id": "g-kUw0OqCfz-"
      }
    },
    {
      "cell_type": "code",
      "source": [
        "def max_error():\n",
        "  h = 0.1\n",
        "  tau = 0.01\n",
        "\n",
        "  wt = wave_task(0, 0, 1, 1/2, ex1_f, ex1_u1, ex1_u2, (-1, 1, ex1_u3), (0, 1, ex1_u4))\n",
        "  t_arr = uniform_net(0, 10, tau)\n",
        "  net = uniform_net(wt[1], wt[2], h)\n",
        "  arr = 3*[len(net)*[0]]\n",
        "  max_err_1 = []\n",
        "  max_err_2 = []\n",
        "\n",
        "  for i in range(len(t_arr)):\n",
        "    res = [ex1_res(x, t_arr[i]) for x in net]\n",
        "    solver(t_arr[i], wt, net, arr, h, tau, 1)\n",
        "    err_1 = abs_error(arr[2], res)\n",
        "    max_err_1.append(max(err_1))\n",
        "\n",
        "\n",
        "  for i in range(len(t_arr)):\n",
        "    res = [ex1_res(x, t_arr[i]) for x in net]\n",
        "    solver(t_arr[i], wt, net, arr, h, tau, 2)\n",
        "    err_2 = abs_error(arr[2], res)\n",
        "    max_err_2.append(max(err_2))\n",
        "\n",
        "  print('Максимальная ошибка решения с порядками 1 и 1: ', max(max_err_1))\n",
        "  print('Максимальная ошибка решения с порядками 2 и 2: ', max(max_err_2))"
      ],
      "metadata": {
        "id": "HnpUlzanCgHe"
      },
      "execution_count": 14,
      "outputs": []
    },
    {
      "cell_type": "code",
      "source": [
        "max_error()"
      ],
      "metadata": {
        "colab": {
          "base_uri": "https://localhost:8080/"
        },
        "id": "miyx1ZEaAx8_",
        "outputId": "5d50d76e-e59b-4e6e-9fd8-e6b26c98d575"
      },
      "execution_count": 15,
      "outputs": [
        {
          "output_type": "stream",
          "name": "stdout",
          "text": [
            "Максимальная ошибка решения с порядками 1 и 1:  0.11180169232468873\n",
            "Максимальная ошибка решения с порядками 2 и 2:  0.01077297688921619\n"
          ]
        }
      ]
    }
  ]
}