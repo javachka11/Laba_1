{
  "cells": [
    {
      "cell_type": "markdown",
      "metadata": {
        "id": "view-in-github",
        "colab_type": "text"
      },
      "source": [
        "<a href=\"https://colab.research.google.com/github/javachka11/Laba_1/blob/main/Sem6_Lab1.ipynb\" target=\"_parent\"><img src=\"https://colab.research.google.com/assets/colab-badge.svg\" alt=\"Open In Colab\"/></a>"
      ]
    },
    {
      "cell_type": "markdown",
      "metadata": {
        "id": "BAVvksqcoZFK"
      },
      "source": [
        "# **Импорт библиотек**"
      ]
    },
    {
      "cell_type": "code",
      "execution_count": 1,
      "metadata": {
        "id": "wYvWnhFAoLCV"
      },
      "outputs": [],
      "source": [
        "from typing import List\n",
        "import math\n",
        "import matplotlib.pyplot as plt\n",
        "import matplotlib.animation as animation\n",
        "from decimal import Decimal"
      ]
    },
    {
      "cell_type": "markdown",
      "metadata": {
        "id": "CDwvQjAktlIG"
      },
      "source": [
        "# **Разностное решение (1-го и 2-го порядков) волновой задачи**"
      ]
    },
    {
      "cell_type": "code",
      "execution_count": 2,
      "metadata": {
        "id": "jzxqraDevUcj"
      },
      "outputs": [],
      "source": [
        "def uniform_net(a, b, h):\n",
        "  step = (b - a) / ((b - a) / h) # шаг сетки\n",
        "  nodes = []\n",
        "  nodes.append(a)\n",
        "  x = a\n",
        "  while x != b:\n",
        "    x = Decimal(str(x)) + Decimal(str(step))\n",
        "    nodes.append(float(x))\n",
        "  return nodes\n",
        "\n",
        "def wave_task(t0, a, b, coef, func, u_x0, ut_x0, border_coeffs_a, border_coeffs_b):\n",
        "  return (t0, a, b, coef, func, u_x0, ut_x0, border_coeffs_a, border_coeffs_b)\n",
        "\n",
        "def left_border_1(t, wt, h, a):\n",
        "  res1 = (wt[7][2](t) - wt[7][0] * a / h)\n",
        "  res2 = (-wt[7][0] / h + wt[7][1])\n",
        "  return res1 / res2\n",
        "\n",
        "def right_border_1(t, wt, h, b):\n",
        "  res1 = (wt[8][2](t) + wt[8][0] * b / h)\n",
        "  res2 = (wt[8][0] / h + wt[8][1])\n",
        "  return res1 / res2\n",
        "\n",
        "def left_border_2(t, wt, h, a1, a2):\n",
        "  res1 = wt[7][2](t) - wt[7][0] / h * (2*a1 - 1/2*a2)\n",
        "  res2 = -3/2 * wt[7][0] / h + wt[7][1]\n",
        "  return res1 / res2\n",
        "\n",
        "def right_border_2(t, wt, h, b1, b2):\n",
        "  res1 = wt[8][2](t) + wt[8][0] / h * (2*b1 - 1/2*b2)\n",
        "  res2 = 3/2 * wt[8][0] / h + wt[8][1]\n",
        "  return res1 / res2\n",
        "\n",
        "def right_border_2(t, wt, h, b1, b2, b3):\n",
        "  res1 = 5*wt[8][0]*wt[3]/h**2 + 2*wt[8][1]/h\n",
        "  res2 = -4*wt[8][0]*wt[3]/h**2 - wt[8][1]/(2*h)\n",
        "  res3 = wt[8][0]*wt[3]/h**2\n",
        "  res4 = 2*wt[8][0]*wt[3]/h**2 + 3*wt[8][1]/(2*h) + wt[8][2]\n",
        "  return (res1*b1 + res2*b2 + res3*b3 + wt[8][3](t)) / res4\n",
        "\n",
        "def solver_1(t, wt, net, arr, h, tau):\n",
        "  if t == wt[0]:\n",
        "    arr[0] = [wt[5](x) for x in net]\n",
        "    arr[2] = [y for y in arr[0]]\n",
        "  elif t == wt[0] + tau:\n",
        "    arr[1] = [wt[6](x) for x in net]\n",
        "    for i in range(len(net)):\n",
        "      arr[1][i] = tau * arr[1][i] + arr[0][i]\n",
        "    arr[2] = [y for y in arr[1]]\n",
        "  else:\n",
        "    f_arr = [wt[4](x, t-tau) for x in net]\n",
        "    for i in range(1, len(net)-1):\n",
        "      arr[2][i] = ((wt[3]*(tau**2)/(h**2))*(arr[1][i+1] - 2*arr[1][i] + arr[1][i-1]) + \n",
        "                   (tau**2)*f_arr[i] + 2*arr[1][i] - arr[0][i])\n",
        "    arr[2][0] = left_border_1(t, wt, h, arr[2][1])\n",
        "    arr[2][-1] = right_border_1(t, wt, h, arr[2][-2])\n",
        "    arr[0] = [x for x in arr[1]]\n",
        "    arr[1] = [x for x in arr[2]]\n",
        "\n",
        "def solver_2(t, wt, net, arr, h, tau):\n",
        "  if t == wt[0]:\n",
        "    arr[0] = [wt[5](x) for x in net]\n",
        "    arr[2] = [y for y in arr[0]]\n",
        "  elif t == wt[0] + tau:\n",
        "    arr[1] = [wt[6](x) for x in net]\n",
        "    f_arr_t0 = [wt[4](x, wt[0]) for x in net]\n",
        "    for i in range(1, len(net)-1):\n",
        "      arr[1][i] = (tau**2 * wt[3]/(2 * h**2) * (arr[0][i-1] - 2*arr[0][i] + arr[0][i+1]) + \n",
        "                 tau**2/2 * f_arr_t0[i] + tau * arr[1][i] + arr[0][i])\n",
        "    arr[1][0] = (tau**2 * wt[3]/(2 * h**2) * (2*arr[0][0] - 5*arr[0][1] + 4*arr[0][2] - arr[0][3]) + \n",
        "                 tau**2/2 * f_arr_t0[0] + tau * arr[1][0] + arr[0][0])\n",
        "    arr[1][-1] = (tau**2 * wt[3]/(2 * h**2) * (2*arr[0][-1] - 5*arr[0][-2] + 4*arr[0][-3] - arr[0][-4]) + \n",
        "                 tau**2/2 * f_arr_t0[-1] + tau * arr[1][-1] + arr[0][-1])\n",
        "    arr[2] = [y for y in arr[1]]\n",
        "  else:\n",
        "    f_arr = [wt[4](x, t-tau) for x in net]\n",
        "    for i in range(1, len(net)-1):\n",
        "      arr[2][i] = ((wt[3]*tau**2/h**2)*(arr[1][i+1] - 2*arr[1][i] + arr[1][i-1]) + \n",
        "                   (tau**2)*f_arr[i] + 2*arr[1][i] - arr[0][i])\n",
        "    arr[2][0] = left_border_2(t, wt, h, arr[2][1], arr[2][2])\n",
        "    if (len(wt[8]) == 3):\n",
        "      arr[2][-1] = right_border_2(t, wt, h, arr[2][-2], arr[2][-3])\n",
        "    else:\n",
        "      arr[2][-1] = right_border_2(t, wt, h, arr[2][-2], arr[2][-3], arr[2][-4])\n",
        "    \n",
        "    arr[0] = [x for x in arr[1]]\n",
        "    arr[1] = [x for x in arr[2]]\n",
        "\n",
        "def solver(t, wt, net, arr, h, tau, order, ax, max_val=2.5):\n",
        "  if order == 1:\n",
        "    solver_1(t, wt, net, arr, h, tau)\n",
        "    ax.clear()\n",
        "    x1,x2,y1,y2 = ax.axis()\n",
        "    ax.axis((x1,x2,-max_val, max_val))\n",
        "    line = ax.plot(net, arr[2])\n",
        "    return line\n",
        "  elif order == 2:\n",
        "    solver_2(t, wt, net, arr, h, tau)\n",
        "    ax.clear()\n",
        "    x1,x2,y1,y2 = ax.axis()\n",
        "    ax.axis((x1,x2,-max_val, max_val))\n",
        "    line = ax.plot(net, arr[2])\n",
        "    return line\n",
        "  else:\n",
        "    print('error!')\n",
        "\n",
        "def ans(t, net, ax):\n",
        "  y_arr = [2*math.sin(t + net[i]) for i in range(len(net))]\n",
        "  ax.clear()\n",
        "  x1,x2,y1,y2 = ax.axis()  \n",
        "  ax.axis((x1,x2,-2, 2))\n",
        "  line = ax.plot(net, y_arr)\n",
        "  return line\n",
        "\n",
        "def abs_error(arr1, arr2):\n",
        "  assert len(arr1)==len(arr2)\n",
        "  array = [math.fabs(arr1[i] - arr2[i]) for i in range(len(arr1))]\n",
        "  return array\n",
        "\n",
        "def abs_arr(arr):\n",
        "  return [math.fabs(arr[i]) for i in range(len(arr))]"
      ]
    },
    {
      "cell_type": "markdown",
      "metadata": {
        "id": "UFVbAKm_tPcN"
      },
      "source": [
        "# **Основная задача**"
      ]
    },
    {
      "cell_type": "markdown",
      "metadata": {
        "id": "7TH--vv_kfE3"
      },
      "source": [
        "**Условие задачи**"
      ]
    },
    {
      "cell_type": "code",
      "execution_count": null,
      "metadata": {
        "id": "2YIoHkSFke0g"
      },
      "outputs": [],
      "source": [
        "ex1_аa = 1/2\n",
        "\n",
        "def ex1_f(x, t):\n",
        "  return -math.sin(x+t)\n",
        "\n",
        "def ex1_u1(x):\n",
        "  return 2*math.sin(x)\n",
        "\n",
        "def ex1_u2(x):\n",
        "  return 2*math.cos(x)\n",
        "\n",
        "def ex1_u3(t):\n",
        "  return 2*(math.sin(t)-math.cos(t))\n",
        "\n",
        "def ex1_u4(t):\n",
        "  return 2*math.sin(1+t)\n",
        "\n",
        "def ex1_res(x, t):\n",
        "  return 2*math.sin(x + t)"
      ]
    },
    {
      "cell_type": "markdown",
      "metadata": {
        "id": "4VSvmsFuBQrV"
      },
      "source": [
        "**Строитель гифок**"
      ]
    },
    {
      "cell_type": "code",
      "execution_count": null,
      "metadata": {
        "id": "iPPNlL67pjW2"
      },
      "outputs": [],
      "source": [
        "def main():\n",
        "  fig, ax = plt.subplots()\n",
        "\n",
        "  h = 0.1\n",
        "  tau = 0.01\n",
        "  \n",
        "  wt = wave_task(0, 0, 1, 1/2, ex1_f, ex1_u1, ex1_u2, (-1, 1, ex1_u3), (0, 1, ex1_u4))\n",
        "  t_arr = uniform_net(0, 10, tau)\n",
        "  net = uniform_net(wt[1], wt[2], h)\n",
        "  arr = 3*[len(net)*[0]]\n",
        "\n",
        "  wt_animation = animation.FuncAnimation(fig,\n",
        "                                      ans,\n",
        "                                      frames=t_arr,\n",
        "                                      fargs = (net, ax),\n",
        "                                      interval = 10,\n",
        "                                      repeat = False)\n",
        "  wt_animation.save('wave_task_real.gif',\n",
        "                    writer = 'pillow',\n",
        "                    fps = 30)\n",
        "  fig.clear()\n",
        "\n",
        "  wt_animation = animation.FuncAnimation(fig,\n",
        "                                      solver,\n",
        "                                      frames=t_arr,\n",
        "                                      fargs = (wt, net, arr, h, tau, 1, ax),\n",
        "                                      interval = 10,\n",
        "                                      repeat = False)\n",
        "  wt_animation.save('wave_task_1.gif',\n",
        "                    writer = 'pillow',\n",
        "                    fps = 30)\n",
        "  fig.clear()\n",
        "  \n",
        "  wt_animation = animation.FuncAnimation(fig,\n",
        "                                      solver,\n",
        "                                      frames=t_arr,\n",
        "                                      fargs = (wt, net, arr, h, tau, 2, ax),\n",
        "                                      interval = 10,\n",
        "                                      repeat = False)\n",
        "  wt_animation.save('wave_task_2.gif',\n",
        "                    writer = 'pillow',\n",
        "                    fps = 30)"
      ]
    },
    {
      "cell_type": "code",
      "execution_count": null,
      "metadata": {
        "colab": {
          "base_uri": "https://localhost:8080/",
          "height": 265
        },
        "id": "3CpXhDH__z5I",
        "outputId": "385109ec-65cd-4ac1-96cc-855c3684f036"
      },
      "outputs": [
        {
          "data": {
            "image/png": "[encoded data removed]",
            "text/plain": [
              "<Figure size 432x288 with 1 Axes>"
            ]
          },
          "metadata": {},
          "output_type": "display_data"
        }
      ],
      "source": [
        "main()"
      ]
    },
    {
      "cell_type": "markdown",
      "metadata": {
        "id": "g-kUw0OqCfz-"
      },
      "source": [
        "**Нахождение максимальной ошибки**"
      ]
    },
    {
      "cell_type": "code",
      "execution_count": null,
      "metadata": {
        "id": "HnpUlzanCgHe"
      },
      "outputs": [],
      "source": [
        "def max_error():\n",
        "  h = 0.1\n",
        "  tau = 0.01\n",
        "\n",
        "  wt = wave_task(0, 0, 1, 1/2, ex1_f, ex1_u1, ex1_u2, (-1, 1, ex1_u3), (0, 1, ex1_u4))\n",
        "  t_arr = uniform_net(0, 10, tau)\n",
        "  net = uniform_net(wt[1], wt[2], h)\n",
        "  arr = 3*[len(net)*[0]]\n",
        "  max_err_1 = []\n",
        "  max_err_2 = []\n",
        "\n",
        "  for i in range(len(t_arr)):\n",
        "    res = [ex1_res(x, t_arr[i]) for x in net]\n",
        "    solver(t_arr[i], wt, net, arr, h, tau, 1)\n",
        "    err_1 = abs_error(arr[2], res)\n",
        "    max_err_1.append(max(err_1))\n",
        "\n",
        "\n",
        "  for i in range(len(t_arr)):\n",
        "    res = [ex1_res(x, t_arr[i]) for x in net]\n",
        "    solver(t_arr[i], wt, net, arr, h, tau, 2)\n",
        "    err_2 = abs_error(arr[2], res)\n",
        "    max_err_2.append(max(err_2))\n",
        "\n",
        "  print('Максимальная ошибка решения с порядками 1 и 1: ', max(max_err_1))\n",
        "  print('Максимальная ошибка решения с порядками 2 и 2: ', max(max_err_2))"
      ]
    },
    {
      "cell_type": "code",
      "execution_count": null,
      "metadata": {
        "colab": {
          "base_uri": "https://localhost:8080/"
        },
        "id": "miyx1ZEaAx8_",
        "outputId": "5d50d76e-e59b-4e6e-9fd8-e6b26c98d575"
      },
      "outputs": [
        {
          "name": "stdout",
          "output_type": "stream",
          "text": [
            "Максимальная ошибка решения с порядками 1 и 1:  0.11180169232468873\n",
            "Максимальная ошибка решения с порядками 2 и 2:  0.01077297688921619\n"
          ]
        }
      ],
      "source": [
        "max_error()"
      ]
    },
    {
      "cell_type": "markdown",
      "metadata": {
        "id": "RhtOFZ2IswWp"
      },
      "source": [
        "# **Дополнительная задача**"
      ]
    },
    {
      "cell_type": "markdown",
      "metadata": {
        "id": "vohYh_kHAueL"
      },
      "source": [
        "**Условие доп. задачи**"
      ]
    },
    {
      "cell_type": "code",
      "execution_count": 11,
      "metadata": {
        "id": "TK29x2ycAxkX"
      },
      "outputs": [],
      "source": [
        "def ex2_f(x, t):\n",
        "  return 0\n",
        "\n",
        "def ex2_u1(x):\n",
        "  return 0\n",
        "\n",
        "def ex2_u2(x):\n",
        "  return 0\n",
        "\n",
        "def ex2_u3(t):\n",
        "  if (0 <= t <= math.pi/10):\n",
        "    return 3*math.sin(10*t)\n",
        "  else:\n",
        "    return 0\n",
        "\n",
        "def ex2_u4(t):\n",
        "  return 0"
      ]
    },
    {
      "cell_type": "markdown",
      "metadata": {
        "id": "qNxYeLeJZY6a"
      },
      "source": [
        "**Строитель гифок для решений доп. волновой задачи**"
      ]
    },
    {
      "cell_type": "code",
      "execution_count": 14,
      "metadata": {
        "id": "_Q-CAbWsw5Rz"
      },
      "outputs": [],
      "source": [
        "def new_task():\n",
        "  fig, ax = plt.subplots()\n",
        "\n",
        "  h = 0.02\n",
        "  tau = 0.01\n",
        "\n",
        "  m1 = 0\n",
        "  m2 = 1\n",
        "  m3 = 10000\n",
        "  T = 10\n",
        "\n",
        "  t_arr = uniform_net(0, 10, tau)\n",
        "  net = uniform_net(0, 1, h)\n",
        "\n",
        "  wt1 = wave_task(0, 0, 1, 1/2, ex2_f, ex2_u1, ex2_u2, (0, 1, ex2_u3), (m1, T, 0, ex2_u4))\n",
        "  wt2 = wave_task(0, 0, 1, 1/2, ex2_f, ex2_u1, ex2_u2, (0, 1, ex2_u3), (m2, T, 0, ex2_u4))\n",
        "  wt3 = wave_task(0, 0, 1, 1/2, ex2_f, ex2_u1, ex2_u2, (0, 1, ex2_u3), (m3, T, 0, ex2_u4))\n",
        "\n",
        "  arr = 3*[len(net)*[0]]\n",
        "\n",
        "  wt_animation = animation.FuncAnimation(fig,\n",
        "                                      solver,\n",
        "                                      frames=t_arr,\n",
        "                                      fargs = (wt1, net, arr, h, tau, 2, ax, 5),\n",
        "                                      interval = 10,\n",
        "                                      repeat = False)\n",
        "  wt_animation.save('wave_new_task_1.gif',\n",
        "                    writer = 'pillow',\n",
        "                    fps = 30)\n",
        "\n",
        "  wt_animation = animation.FuncAnimation(fig,\n",
        "                                      solver,\n",
        "                                      frames=t_arr,\n",
        "                                      fargs = (wt2, net, arr, h, tau, 2, ax, 5),\n",
        "                                      interval = 10,\n",
        "                                      repeat = False)\n",
        "  wt_animation.save('wave_new_task_2.gif',\n",
        "                    writer = 'pillow',\n",
        "                    fps = 30)\n",
        "\n",
        "  wt_animation = animation.FuncAnimation(fig,\n",
        "                                      solver,\n",
        "                                      frames=t_arr,\n",
        "                                      fargs = (wt3, net, arr, h, tau, 2, ax, 5),\n",
        "                                      interval = 10,\n",
        "                                      repeat = False)\n",
        "  wt_animation.save('wave_new_task_3.gif',\n",
        "                    writer = 'pillow',\n",
        "                    fps = 30)\n",
        "  fig.clear()"
      ]
    },
    {
      "cell_type": "code",
      "execution_count": 15,
      "metadata": {
        "colab": {
          "base_uri": "https://localhost:8080/",
          "height": 34
        },
        "id": "45n43wj3zAr1",
        "outputId": "ae7073b5-eb9a-48cb-fab8-6994f2cd96f6"
      },
      "outputs": [
        {
          "output_type": "display_data",
          "data": {
            "text/plain": [
              "<Figure size 432x288 with 0 Axes>"
            ]
          },
          "metadata": {}
        }
      ],
      "source": [
        "new_task()"
      ]
    }
  ],
  "metadata": {
    "colab": {
      "collapsed_sections": [
        "BAVvksqcoZFK",
        "CDwvQjAktlIG",
        "UFVbAKm_tPcN",
        "RhtOFZ2IswWp"
      ],
      "name": "Sem6_Lab1.ipynb",
      "provenance": [],
      "authorship_tag": "ABX9TyOyC6jcPWV7StEw6c/6LoAX",
      "include_colab_link": true
    },
    "kernelspec": {
      "display_name": "Python 3",
      "name": "python3"
    },
    "language_info": {
      "name": "python"
    }
  },
  "nbformat": 4,
  "nbformat_minor": 0
}